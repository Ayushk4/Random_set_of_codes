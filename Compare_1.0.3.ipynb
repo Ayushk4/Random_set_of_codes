{
 "cells": [
  {
   "cell_type": "code",
   "execution_count": 1,
   "metadata": {},
   "outputs": [],
   "source": [
    "using BenchmarkTools"
   ]
  },
  {
   "cell_type": "code",
   "execution_count": 2,
   "metadata": {},
   "outputs": [
    {
     "data": {
      "text/plain": [
       "BenchmarkTools.Trial: \n",
       "  memory estimate:  7.63 MiB\n",
       "  allocs estimate:  3\n",
       "  --------------\n",
       "  minimum time:     1.771 ms (0.00% GC)\n",
       "  median time:      2.177 ms (0.00% GC)\n",
       "  mean time:        2.443 ms (12.88% GC)\n",
       "  maximum time:     86.622 ms (95.83% GC)\n",
       "  --------------\n",
       "  samples:          2041\n",
       "  evals/sample:     1"
      ]
     },
     "execution_count": 2,
     "metadata": {},
     "output_type": "execute_result"
    }
   ],
   "source": [
    "A = rand(1000,1000); B = rand(1000,1000); C = rand(1000,1000)\n",
    "test(A,B,C) = A + B + C\n",
    "@benchmark test(A,B,C)"
   ]
  },
  {
   "cell_type": "code",
   "execution_count": 3,
   "metadata": {},
   "outputs": [
    {
     "data": {
      "text/plain": [
       "BenchmarkTools.Trial: \n",
       "  memory estimate:  7.63 MiB\n",
       "  allocs estimate:  5\n",
       "  --------------\n",
       "  minimum time:     2.750 ms (0.00% GC)\n",
       "  median time:      3.493 ms (0.00% GC)\n",
       "  mean time:        4.220 ms (10.32% GC)\n",
       "  maximum time:     83.967 ms (92.91% GC)\n",
       "  --------------\n",
       "  samples:          1183\n",
       "  evals/sample:     1"
      ]
     },
     "execution_count": 3,
     "metadata": {},
     "output_type": "execute_result"
    }
   ],
   "source": [
    "test2(A,B,C) = map((a,b,c)->a+b+c,A,B,C)\n",
    "@benchmark test2(A,B,C)"
   ]
  },
  {
   "cell_type": "code",
   "execution_count": 4,
   "metadata": {},
   "outputs": [
    {
     "data": {
      "text/plain": [
       "BenchmarkTools.Trial: \n",
       "  memory estimate:  7.63 MiB\n",
       "  allocs estimate:  2\n",
       "  --------------\n",
       "  minimum time:     1.727 ms (0.00% GC)\n",
       "  median time:      2.265 ms (0.00% GC)\n",
       "  mean time:        2.589 ms (14.32% GC)\n",
       "  maximum time:     84.315 ms (93.19% GC)\n",
       "  --------------\n",
       "  samples:          1926\n",
       "  evals/sample:     1"
      ]
     },
     "execution_count": 4,
     "metadata": {},
     "output_type": "execute_result"
    }
   ],
   "source": [
    "function test3(A,B,C)\n",
    "    D = similar(A)\n",
    "    @inbounds for i in eachindex(A)\n",
    "        D[i] = A[i] + B[i] + C[i]\n",
    "    end\n",
    "    D\n",
    "end\n",
    "@benchmark test3(A,B,C)"
   ]
  },
  {
   "cell_type": "code",
   "execution_count": null,
   "metadata": {},
   "outputs": [],
   "source": []
  }
 ],
 "metadata": {
  "kernelspec": {
   "display_name": "Julia 1.0.3",
   "language": "julia",
   "name": "julia-1.0"
  },
  "language_info": {
   "file_extension": ".jl",
   "mimetype": "application/julia",
   "name": "julia",
   "version": "1.0.3"
  }
 },
 "nbformat": 4,
 "nbformat_minor": 2
}
