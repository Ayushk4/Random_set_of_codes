{
 "cells": [
  {
   "cell_type": "code",
   "execution_count": 2,
   "metadata": {},
   "outputs": [],
   "source": [
    "using BenchmarkTools"
   ]
  },
  {
   "cell_type": "code",
   "execution_count": 3,
   "metadata": {},
   "outputs": [
    {
     "data": {
      "text/plain": [
       "BenchmarkTools.Trial: \n",
       "  memory estimate:  15.26 MiB\n",
       "  allocs estimate:  4\n",
       "  --------------\n",
       "  minimum time:     4.681 ms (0.00% GC)\n",
       "  median time:      5.335 ms (6.40% GC)\n",
       "  mean time:        5.775 ms (6.87% GC)\n",
       "  maximum time:     67.691 ms (90.24% GC)\n",
       "  --------------\n",
       "  samples:          863\n",
       "  evals/sample:     1"
      ]
     },
     "execution_count": 3,
     "metadata": {},
     "output_type": "execute_result"
    }
   ],
   "source": [
    "A = rand(1000,1000); B = rand(1000,1000); C = rand(1000,1000)\n",
    "test(A,B,C) = (A - B) - C\n",
    "@benchmark test(A,B,C)"
   ]
  },
  {
   "cell_type": "code",
   "execution_count": 4,
   "metadata": {},
   "outputs": [
    {
     "data": {
      "text/plain": [
       "BenchmarkTools.Trial: \n",
       "  memory estimate:  7.63 MiB\n",
       "  allocs estimate:  5\n",
       "  --------------\n",
       "  minimum time:     2.991 ms (0.00% GC)\n",
       "  median time:      3.398 ms (0.00% GC)\n",
       "  mean time:        3.708 ms (5.67% GC)\n",
       "  maximum time:     57.613 ms (94.36% GC)\n",
       "  --------------\n",
       "  samples:          1344\n",
       "  evals/sample:     1"
      ]
     },
     "execution_count": 4,
     "metadata": {},
     "output_type": "execute_result"
    }
   ],
   "source": [
    "test2(A,B,C) = map((a,b,c)->(a-b)-c,A,B,C)\n",
    "@benchmark test2(A,B,C)"
   ]
  },
  {
   "cell_type": "code",
   "execution_count": 5,
   "metadata": {},
   "outputs": [
    {
     "data": {
      "text/plain": [
       "BenchmarkTools.Trial: \n",
       "  memory estimate:  7.63 MiB\n",
       "  allocs estimate:  2\n",
       "  --------------\n",
       "  minimum time:     2.844 ms (0.00% GC)\n",
       "  median time:      3.241 ms (0.00% GC)\n",
       "  mean time:        3.378 ms (6.84% GC)\n",
       "  maximum time:     74.348 ms (94.97% GC)\n",
       "  --------------\n",
       "  samples:          1474\n",
       "  evals/sample:     1"
      ]
     },
     "execution_count": 5,
     "metadata": {},
     "output_type": "execute_result"
    }
   ],
   "source": [
    "function test3(A,B,C)\n",
    "    D = similar(A)\n",
    "    @inbounds for i in eachindex(A)\n",
    "        D[i] = (A[i] - B[i]) - C[i]\n",
    "    end\n",
    "    D\n",
    "end\n",
    "@benchmark test3(A,B,C)"
   ]
  },
  {
   "cell_type": "code",
   "execution_count": 6,
   "metadata": {},
   "outputs": [
    {
     "data": {
      "text/plain": [
       "BenchmarkTools.Trial: \n",
       "  memory estimate:  7.63 MiB\n",
       "  allocs estimate:  2\n",
       "  --------------\n",
       "  minimum time:     2.843 ms (0.00% GC)\n",
       "  median time:      3.332 ms (0.00% GC)\n",
       "  mean time:        3.546 ms (6.41% GC)\n",
       "  maximum time:     61.375 ms (92.45% GC)\n",
       "  --------------\n",
       "  samples:          1404\n",
       "  evals/sample:     1"
      ]
     },
     "execution_count": 6,
     "metadata": {},
     "output_type": "execute_result"
    }
   ],
   "source": [
    "test4(A,B,C) = (A .- B) .- C\n",
    "@benchmark test4(A,B,C)"
   ]
  },
  {
   "cell_type": "code",
   "execution_count": 7,
   "metadata": {},
   "outputs": [
    {
     "data": {
      "text/plain": [
       "BenchmarkTools.Trial: \n",
       "  memory estimate:  7.63 MiB\n",
       "  allocs estimate:  2\n",
       "  --------------\n",
       "  minimum time:     2.850 ms (0.00% GC)\n",
       "  median time:      3.359 ms (0.00% GC)\n",
       "  mean time:        3.574 ms (7.50% GC)\n",
       "  maximum time:     90.958 ms (94.25% GC)\n",
       "  --------------\n",
       "  samples:          1393\n",
       "  evals/sample:     1"
      ]
     },
     "execution_count": 7,
     "metadata": {},
     "output_type": "execute_result"
    }
   ],
   "source": [
    "test5(A,B,C) = @. (A - B) - C #only one array allocated\n",
    "@benchmark test5(A,B,C)"
   ]
  },
  {
   "cell_type": "code",
   "execution_count": 8,
   "metadata": {},
   "outputs": [],
   "source": [
    "D = zeros(1000,1000);"
   ]
  },
  {
   "cell_type": "code",
   "execution_count": 9,
   "metadata": {
    "scrolled": true
   },
   "outputs": [
    {
     "data": {
      "text/plain": [
       "BenchmarkTools.Trial: \n",
       "  memory estimate:  0 bytes\n",
       "  allocs estimate:  0\n",
       "  --------------\n",
       "  minimum time:     2.762 ms (0.00% GC)\n",
       "  median time:      3.025 ms (0.00% GC)\n",
       "  mean time:        3.396 ms (0.00% GC)\n",
       "  maximum time:     5.965 ms (0.00% GC)\n",
       "  --------------\n",
       "  samples:          1465\n",
       "  evals/sample:     1"
      ]
     },
     "execution_count": 9,
     "metadata": {},
     "output_type": "execute_result"
    }
   ],
   "source": [
    "test6!(D,A,B,C) = D .= (A .- B) .- C #only one array allocated\n",
    "@benchmark test6!(D,A,B,C)"
   ]
  },
  {
   "cell_type": "code",
   "execution_count": 10,
   "metadata": {},
   "outputs": [
    {
     "data": {
      "text/plain": [
       "BenchmarkTools.Trial: \n",
       "  memory estimate:  0 bytes\n",
       "  allocs estimate:  0\n",
       "  --------------\n",
       "  minimum time:     2.759 ms (0.00% GC)\n",
       "  median time:      2.916 ms (0.00% GC)\n",
       "  mean time:        3.051 ms (0.00% GC)\n",
       "  maximum time:     4.702 ms (0.00% GC)\n",
       "  --------------\n",
       "  samples:          1633\n",
       "  evals/sample:     1"
      ]
     },
     "execution_count": 10,
     "metadata": {},
     "output_type": "execute_result"
    }
   ],
   "source": [
    "test7!(D,A,B,C) = @. D = (A - B) - C #only one array allocated\n",
    "@benchmark test7!(D,A,B,C)"
   ]
  },
  {
   "cell_type": "code",
   "execution_count": 11,
   "metadata": {},
   "outputs": [
    {
     "data": {
      "text/plain": [
       "BenchmarkTools.Trial: \n",
       "  memory estimate:  32 bytes\n",
       "  allocs estimate:  1\n",
       "  --------------\n",
       "  minimum time:     4.102 ms (0.00% GC)\n",
       "  median time:      5.132 ms (0.00% GC)\n",
       "  mean time:        5.502 ms (0.00% GC)\n",
       "  maximum time:     9.315 ms (0.00% GC)\n",
       "  --------------\n",
       "  samples:          906\n",
       "  evals/sample:     1"
      ]
     },
     "execution_count": 11,
     "metadata": {},
     "output_type": "execute_result"
    }
   ],
   "source": [
    "test8!(D,A,B,C) = map!((a,b,c)->a-b-c,D,A,B,C)\n",
    "@benchmark test8!(D,A,B,C)"
   ]
  },
  {
   "cell_type": "code",
   "execution_count": null,
   "metadata": {},
   "outputs": [],
   "source": []
  }
 ],
 "metadata": {
  "kernelspec": {
   "display_name": "Julia 1.2.0",
   "language": "julia",
   "name": "julia-1.2"
  },
  "language_info": {
   "file_extension": ".jl",
   "mimetype": "application/julia",
   "name": "julia",
   "version": "1.2.0"
  }
 },
 "nbformat": 4,
 "nbformat_minor": 2
}
